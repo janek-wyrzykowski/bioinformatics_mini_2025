{
 "cells": [
  {
   "cell_type": "markdown",
   "id": "0dfea294",
   "metadata": {},
   "source": [
    "# Bioinformatics - Assigment 1\n",
    "\n",
    "## Jan Wyrzykowski"
   ]
  },
  {
   "cell_type": "markdown",
   "id": "b14e1077",
   "metadata": {},
   "source": [
    "### Imports"
   ]
  },
  {
   "cell_type": "code",
   "execution_count": null,
   "id": "733ac963",
   "metadata": {},
   "outputs": [],
   "source": [
    "import numpy as np\n",
    "import pandas as pd\n",
    "import GEOparse\n",
    "from scipy import stats\n",
    "from Bio import Entrez, SeqIO, pairwise2\n",
    "import biotite.sequence.io.fasta as fasta\n",
    "from Bio.Blast import NCBIWWW, NCBIXML\n",
    "from Bio.Align import substitution_matrices\n",
    "from sklearn import preprocessing\n",
    "from sklearn.decomposition import PCA\n",
    "import matplotlib.pyplot as plt\n",
    "from sklearn.manifold import TSNE\n",
    "import umap\n",
    "from sklearn.cluster import KMeans\n",
    "from sklearn.metrics import silhouette_score"
   ]
  },
  {
   "cell_type": "markdown",
   "id": "36ed3288",
   "metadata": {},
   "source": [
    "### 1. Data Retrieval"
   ]
  },
  {
   "cell_type": "code",
   "execution_count": 3,
   "id": "f5c4908f",
   "metadata": {},
   "outputs": [
    {
     "data": {
      "text/plain": [
       "count    263.000000\n",
       "mean       5.061568\n",
       "std        2.895280\n",
       "min        0.000000\n",
       "25%        3.374111\n",
       "50%        5.662465\n",
       "75%        7.320721\n",
       "max       11.206853\n",
       "Name: hsa-miR-1290, dtype: float64"
      ]
     },
     "execution_count": 3,
     "metadata": {},
     "output_type": "execute_result"
    }
   ],
   "source": [
    "# Retrieve the dataset and change columns to distinguish between adenocarcinoma and squamous cell carcinoma \n",
    "gse_id = \"GSE70970\"\n",
    "gse = GEOparse.get_GEO(geo=gse_id, destdir=\".\", silent=True)\n",
    "sample_names = list(map(lambda sample: sample[1].get_metadata_attribute(\"title\"), gse.gsms.items()))\n",
    "expr_table = gse.pivot_samples(\"VALUE\")\n",
    "expr_df = expr_table.select_dtypes(include=[np.number])\n",
    "expr_df = expr_df.fillna(0)\n",
    "expr_df.columns = sample_names\n",
    "\n",
    "# # Finding diferentially expressed genes with t-test\n",
    "pvals = []\n",
    "for g in expr_df.index:\n",
    "    a = expr_df.loc[g, expr_df.columns.str.contains('Normal')].values\n",
    "    b = expr_df.loc[g, expr_df.columns.str.contains('NPC')].values\n",
    "    t, p = stats.ttest_ind(a, b, equal_var=False)\n",
    "    pvals.append(p if not np.isnan(p) else 1.0)\n",
    "\n",
    "pvals = np.array(pvals)\n",
    "\n",
    "# Sorting genes by p-value ascending\n",
    "genes_pvals = pd.DataFrame({'gene': expr_df.index, 'pval': pvals}).set_index(\"gene\").sort_values('pval')\n",
    "gene_names = genes_pvals.index\n",
    "gene_name = \"hsa-miR-1290\"\n",
    "\n",
    "expr_df.loc[gene_name].describe()"
   ]
  },
  {
   "cell_type": "markdown",
   "id": "6eb7e30b",
   "metadata": {},
   "source": [
    "This dataset focuses on finding differences in gene expressions caused by Nasopharyngeal Carcinoma. It consists of 263 samples, each of 734 genes. I have chosen gene hsa-miR-1290 because of its low p-value in the test conducted above, as well as its presence in the NCBI database. Its expression across all samples ranges from 0 to 11.21, averages at 5.06 and has standard deviation equal to 2.90."
   ]
  },
  {
   "cell_type": "markdown",
   "id": "d3580c4b",
   "metadata": {},
   "source": [
    "### 2. Sequence Extraction"
   ]
  },
  {
   "cell_type": "code",
   "execution_count": 13,
   "id": "2e3f04cc",
   "metadata": {},
   "outputs": [],
   "source": [
    "Entrez.email = \"01180912@pw.edu.pl\"\n",
    "\n",
    "# Search for a gene in NCBI database\n",
    "handle = Entrez.esearch(db=\"nucleotide\", term=f\"{gene_name}[Gene] AND Homo Sapiens[Organism]\", retmax=1)\n",
    "record = Entrez.read(handle)\n",
    "handle.close()\n",
    "\n",
    "# Fetch the gene from the database\n",
    "gene_id = record[\"IdList\"][0]\n",
    "handle = Entrez.efetch(db=\"nucleotide\", id=gene_id, rettype=\"fasta\")\n",
    "\n",
    "# Write the sequence to a FASTA file\n",
    "with open(\"nucl_seq.fasta\", \"w\") as f:\n",
    "    for r in SeqIO.parse(handle, \"fasta\"):\n",
    "        SeqIO.write(r, f, \"fasta\")"
   ]
  },
  {
   "cell_type": "markdown",
   "id": "165a33d6",
   "metadata": {},
   "source": [
    "### 3. Translation to Protein"
   ]
  },
  {
   "cell_type": "code",
   "execution_count": null,
   "id": "330f38c1",
   "metadata": {},
   "outputs": [
    {
     "name": "stdout",
     "output_type": "stream",
     "text": [
      "NC_060925.1 Homo sapiens isolate CHM13 chromosome 1, alternate assembly T2T-CHM13v2.0\n"
     ]
    }
   ],
   "source": [
    "fasta_file = fasta.FastaFile.read(\"nucl_seq.fasta\")\n",
    "key = list(fasta_file.keys())[0]\n",
    "nucl_sequence = fasta.get_sequence(fasta_file, key)\n",
    "\n",
    "prot_sequence = nucl_sequence.translate(complete=True)\n",
    "prot_seq_file = fasta.FastaFile()\n",
    "prot_seq_file[key] = str(prot_sequence)\n",
    "\n",
    "prot_seq_file.write(\"prot_seq.fasta\")"
   ]
  },
  {
   "cell_type": "markdown",
   "id": "e143c2ea",
   "metadata": {},
   "source": [
    "Once `prot_seq.fasta` is generated, you can use it to get the sequence instead of translating it again:"
   ]
  },
  {
   "cell_type": "code",
   "execution_count": 92,
   "id": "603473ed",
   "metadata": {},
   "outputs": [],
   "source": [
    "fasta_file_prot = fasta.FastaFile.read(\"prot_seq.fasta\")\n",
    "prot_sequence = fasta.get_sequence(fasta_file_prot)"
   ]
  },
  {
   "cell_type": "markdown",
   "id": "6fb43825",
   "metadata": {},
   "source": [
    "### 4. Functional Annotation via BLAST"
   ]
  },
  {
   "cell_type": "code",
   "execution_count": 15,
   "id": "9fa2d60b",
   "metadata": {},
   "outputs": [
    {
     "name": "stdout",
     "output_type": "stream",
     "text": [
      "Hit amount: 35\n",
      "\n",
      "=== Top 10 Hits Details ===\n",
      "Hit 1: sp|P0C7U9.1|\n",
      "  Identity: 92.4%\n",
      "  E-value: 3.30e-94\n",
      "  Description: RecName: Full=Protein FAM87A [Homo sapiens]\n",
      "\n",
      "Hit 2: sp|O00370.1|\n",
      "  Identity: 69.0%\n",
      "  E-value: 1.08e-61\n",
      "  Description: RecName: Full=LINE-1 retrotransposable element ORF2 protein; Short=ORF2p; Includes: RecName: Full=Re...\n",
      "\n",
      "Hit 3: sp|Q06852.2|\n",
      "  Identity: 33.0%\n",
      "  E-value: 9.01e-41\n",
      "  Description: RecName: Full=Cell surface glycoprotein 1; AltName: Full=Outer layer protein B; AltName: Full=S-laye...\n",
      "\n",
      "Hit 4: sp|P08548.1|\n",
      "  Identity: 50.5%\n",
      "  E-value: 3.93e-38\n",
      "  Description: RecName: Full=LINE-1 reverse transcriptase homolog [Nycticebus coucang]\n",
      "\n",
      "Hit 5: sp|P11369.2|\n",
      "  Identity: 47.3%\n",
      "  E-value: 2.28e-36\n",
      "  Description: RecName: Full=LINE-1 retrotransposable element ORF2 protein; Short=ORF2p; AltName: Full=Long intersp...\n",
      "\n",
      "Hit 6: sp|Q9NX94.2|\n",
      "  Identity: 77.4%\n",
      "  E-value: 3.19e-36\n",
      "  Description: RecName: Full=WW domain binding protein 1-like; AltName: Full=Outcome predictor in acute leukemia 1 ...\n",
      "\n",
      "Hit 7: sp|Q8BGW2.1|\n",
      "  Identity: 73.5%\n",
      "  E-value: 3.32e-36\n",
      "  Description: RecName: Full=WW domain binding protein 1-like; AltName: Full=Outcome predictor in acute leukemia 1 ...\n",
      "\n",
      "Hit 8: sp|P0C1G7.1|\n",
      "  Identity: 74.2%\n",
      "  E-value: 1.63e-34\n",
      "  Description: RecName: Full=WW domain binding protein 1-like; AltName: Full=Outcome predictor in acute leukemia 1 ...\n",
      "\n",
      "Hit 9: sp|Q924A2.2|\n",
      "  Identity: 41.3%\n",
      "  E-value: 4.33e-33\n",
      "  Description: RecName: Full=Protein capicua homolog [Mus musculus]\n",
      "\n",
      "Hit 10: sp|Q8N2A0.1|\n",
      "  Identity: 69.7%\n",
      "  E-value: 3.93e-29\n",
      "  Description: RecName: Full=Putative uncharacterized protein encoded by LINC00269 [Homo sapiens]\n",
      "\n"
     ]
    }
   ],
   "source": [
    "# I have decided to take first 100000 aminoacids of the protein sequence since the full sequence is tens of millions of characters long and the limit on query size is 100000\n",
    "result_handle = NCBIWWW.qblast('blastp', 'swissprot', str(prot_sequence)[:100000])\n",
    "blast_record = NCBIXML.read(result_handle)\n",
    "\n",
    "hit_ids = []\n",
    "descriptions = []\n",
    "evalues = []\n",
    "bit_scores = []\n",
    "identities = []\n",
    "query_coverage = []\n",
    "\n",
    "for i, alignment in enumerate(blast_record.alignments):\n",
    "    for hsp in alignment.hsps[:1]:  # Take first HSP for each alignment\n",
    "        hit_ids.append(alignment.hit_id)\n",
    "        descriptions.append(alignment.hit_def[:100] + \"...\" if len(alignment.hit_def) > 100 else alignment.hit_def)\n",
    "        evalues.append(hsp.expect)\n",
    "        bit_scores.append(hsp.score)\n",
    "        identities.append(hsp.identities / hsp.align_length * 100 if hsp.align_length > 0 else 0)\n",
    "        query_coverage.append(hsp.query_end - hsp.query_start + 1)\n",
    "\n",
    "print(f\"Hit amount: {len(hit_ids)}\")\n",
    "\n",
    "# Show top 10 hits in detail\n",
    "print(f'\\n=== Top 10 Hits Details ===')\n",
    "for i in range(min(10, len(hit_ids))):\n",
    "    print(f'Hit {i+1}: {hit_ids[i]}')\n",
    "    print(f'  Identity: {identities[i]:.1f}%')\n",
    "    print(f'  E-value: {evalues[i]:.2e}')\n",
    "    print(f'  Description: {descriptions[i]}')\n",
    "    print()"
   ]
  },
  {
   "cell_type": "markdown",
   "id": "45d64e28",
   "metadata": {},
   "source": [
    "Summary of inferred proteins (acquired from running above code with protein sequence of length 5000) based on NCBI protein database:\n",
    "| Protein name | Description | Summary |\n",
    "| - | - | - |\n",
    "| Q06852.2 | Cell surface glycoprotein 1 | A protein found on cell walls of bacteria Acetivibrio thermocellus. It may be involved in attachment of the cellulosome to the cell surface. |\n",
    "| Q9JKS4.1 | LIM domain-binding protein 3 | A protein found in Mus Musculus (house mouse). LIM domain-binding proteins are crucial in limb, nervous system, and muscle development. |\n",
    "| Q99109.1 | Repellent protein 1 | Found in fungus Mycosarcoma maydis. It has hydrophobic properties and takes part in forming aerial hyphae. |\n",
    "| P19597.2 | Circumsporozoite protein | Present in malaria parasite Plasmodium falciparum; used in malaria vaccine research. |\n",
    "| P05691.1 | Circumsporozoite protein | Also present in Plasmodium falciparum; also used in vaccine research. |\n",
    "| P13814.1 | Circumsporozoite protein | Present in Plasmodium falciparum found in Thailand; also used in vaccine research. |\n",
    "| O75112.2 | LIM domain-binding protein 3 | Found in humans. From NCBI: \"May function as an adapter in striated muscle to couple protein kinase C-mediated signaling via its LIM domains to the cytoskeleton.\" |\n",
    "| P02893.1 | Circumsporozoite protein | Found in Plasmodium falciparum, used in vaccine research. |\n",
    "| Q5KSL6.1 | Diacylglycerol kinase kappa | A protein found in humans. NCBI: \"Diacylglycerol kinase that converts diacylglycerol/DAG into phosphatidic acid/phosphatidate/PA and regulates the respective levels of these two bioactive lipids\". |\n",
    "| A3DC27.1 | Anti-sigma-I factor RsgI2 [Acetivibrio thermocellus ATCC 27405] | Present in bacteria Acetivibrio thermocellus. Its task is to regulate SigI2 activity. |"
   ]
  },
  {
   "cell_type": "markdown",
   "id": "cd45cbab",
   "metadata": {},
   "source": [
    "### 5. Sequence Alignment and Substitution Matrices"
   ]
  },
  {
   "cell_type": "markdown",
   "id": "861db57c",
   "metadata": {},
   "source": [
    "I have decided to select proteins 1, 3 and 9 for variety. I am using BLOSUM, because my goal is to find local alignments - after all, protein sequences found with BLAST are much shorter than the original protein sequence."
   ]
  },
  {
   "cell_type": "code",
   "execution_count": 9,
   "id": "2c036220",
   "metadata": {},
   "outputs": [
    {
     "name": "stdout",
     "output_type": "stream",
     "text": [
      "\n",
      "\n",
      "Pairwise alignment for protein Q06852.2:\n",
      "\n",
      " 294 P*PSPSPSPSPSPSPSPSPSPSPSPSPS-----PSPSPSPSPSPSPSPSPSPSPSPSPSPSPSPSPSPSPS-----P*P*P*P*P*P*P*P*P*P*P*P*P*P*P*P*P*P*P*P*P*-P*P*P*P*P*P*P*P*P*P*P*P*P*P*P*P*P*P*P*P*P*P*P*P*P*P*P*QP*P*P*P*P*P*P*P*P*P*P*P*P*P*P*P*P*P*P*P*P*P*P*P*P*P*P*P*PLTLTLTLTLTLTLP*P*P*P*P*P*P*P*PLTLNPNPNPNPNPNPTPT-------PTPTPTPNPTPTPTPTPTPTPTPTLTLTLTLTLTLTQP*P*P*P*P*P*P*PPNPNPNPNPNPNPNPNPNPNPNPNPNPNP*P*P*P*P*P*P*-P*PLTLTLTLTLTLTLTLNPNPN--PNPNPNPTLTLTLTLTLT-----LTLNPNPNPNPNPNPNPNPNPNP*P*P*P*PDPDP-----DPDPDPGP*P*P*P*P*P*P*P*P*P*P*P*P*P*PNPTLTLTLTLTLTLTLTLTLTLTPNPNPNPNPNPNP*P*PLN-PNPNPNPNPNPNPNPTLTLTLTLTLTLTLTPNPNP*P*P*P*P*P*PLTLTLTLTLTLTLTPNPNP*P*P*P*P*P*PL----------TLTLTLTLTLTLTLSAGAEARRAGAG\n",
      "     |.||..|.||..|.||..|.||..|.||     |.|...||..|.||..|.||..|.||..|.||..|.||     |.|...|...|.|...|.|...|.|...|.|...|.|...|. |.|...|...|.|...|.|...|.|...|.|...|.|...|.|...|.|...|..|.|...|...|.|...|.|...|.|...|.|...|.|...|.|...|.|         ..|.........|...|.|...|.|...|   .|...|.|...|||.       ||.||...|||...|||...|||.           ..|.|...|.|...|..|.|...|...|.|...|.|...|.|...|.|...|.|...|. |.|   |.|.....|....|.|.  |.|...||.....|...|     .|..|...|.|...|.|...|.|...|.|...|.|     .|.|...|...|.|...|.|...|.|...|.|...|.|..|...... |.|.....|....|.|...|.|...|.|.. |.|...|.|...|.|..|......   |.||...|.|...|.|...|       |.....||...|.|...|.|...|.          |.|.|.|...|.|...|......|.|\n",
      "1431 PTPSDEPTPSDEPTPSDEPTPSDEPTPSETPEEPIPTDTPSDEPTPSDEPTPSDEPTPSDEPTPSDEPTPSETPEEPIPTDTPSDEPTPSDEPTPSDEPTPSDEPTPSDEPTPSETPEEPIPTDTPSDEPTPSDEPTPSDEPTPSDEPTPSDEPTPSDEPTPSDEPTPSETPEEPIPTDTPSDEPTPSDEPTPSDEPTPSDEPTPSDEPTPSDEPTPSDEPTP---------SETPEEPIPTDTPSDEPTPSDEPTPSDEP---TPSDEPTPSDEPTPSETPEEPIPTDTPSDEPTPSDEPTPSDEPTPS-----------DEPTPSDEPTPSETPEEPIPTDTPSDEPTPSDEPTPSDEPTPSDEPTPSDEPTPSETPEEPIP---TDTPSDEPTPSDEPTPSDEPTPSDEPTPSDEPTPSETPEEPIPTDTPSDEPTPSDEPTPSDEPTPSDEPTPSDEPTPSETPEEPIPTDTPSDEPTPSDEPTPSDEPTPSDEPTPSDEPTPSETPEEPIP-TDTPSDEPTPSDEPTPSDEPTPSDEPTPSDEPTPSDEPTPSDEPTPSETPEEPIP---TDTPSDEPTPSDEPTPSDEP-------TPSDEPTPSDEPTPSDEPTPSDEPTPSETPEEPTPTTTPTPTPSTTPTSGSGGSGGSGGGG\n",
      "  Score=478\n",
      "\n",
      "\n",
      "\n",
      "Pairwise alignment for protein Q99109.1:\n",
      "\n",
      "294 P*PSPSPSPSPSPS-PSPS-----PSPSPSPSPSPSPSPSPSPSPSPSPSPSPSPSPSPSPSPSPSPSPSPSP\n",
      "    |.|.||..|||||. |.||     |...|.|.|.||..|.|.||..|.|.||..|.|.||..|.|.|||.|.|\n",
      "481 PKPKPSTKPSPSPTTPPPSKDTSKPTTKPEPKPQPSDKPEPKPSDKPEPKPSDKPEPKPSDKPEPTPSPKPTP\n",
      "  Score=203\n",
      "\n",
      "\n",
      "\n",
      "Pairwise alignment for protein Q5KSL6.1:\n",
      "\n",
      "253 P*P*PP*P*P*P*P*P*P*P------*P*P*P*P*P*P*P*P*P------------*P*P*PSPSPSPSPSPSPSPSPSPSPSPSPSPSPSPSP----SPSPSPSP--------------------SPSPSPSP----------------SPSPSP----------------SPSPSPSPSP\n",
      "    |.|.||.|.|.|.|.|.|.|      .|.|.|.|.|...|.|.|            .|.|.|...|...|.|.|...|.|.|...|.|.|.|.|    .|.|.|.|                    .|.|.|.|                .|||.|                ||||||||||\n",
      " 24 PEPPPPWPPPPPPPAPPPAPPLLSEASPEPIPEPCPELAPGPCPEATSESATELYTEPTPEPATEPASEPAPEPATEPAPEPATEPAPEPAPEPATESAPEPTPEPALESVPEPAPELTPEVAPELAPEPTPEPVTELAPEFCPEAAPEFRPSPAPCLLQCPVDTRERGLKTSPSPSPSPSP\n",
      "  Score=201\n",
      "\n"
     ]
    }
   ],
   "source": [
    "protein_names = [\"Q06852.2\", \"Q99109.1\", \"Q5KSL6.1\"]\n",
    "\n",
    "blosum62 = substitution_matrices.load(\"BLOSUM62\")\n",
    "\n",
    "for name in protein_names:\n",
    "    handle = Entrez.esearch(db=\"protein\", term=f\"{name}[Version]\", retmax=1)\n",
    "    record = Entrez.read(handle)\n",
    "    handle.close()\n",
    "\n",
    "    gene_id = record[\"IdList\"][0]\n",
    "    handle = Entrez.efetch(db=\"protein\", id=gene_id, rettype=\"fasta\")\n",
    "\n",
    "    records = SeqIO.parse(handle, \"fasta\")\n",
    "    r = next(records)\n",
    "\n",
    "    aligns = pairwise2.align.localds(str(prot_sequence)[:100000], r.seq, blosum62, -10, -0.5)\n",
    "    print(f\"\\n\\nPairwise alignment for protein {name}:\\n\")\n",
    "    print(pairwise2.format_alignment(*aligns[0]))\n"
   ]
  },
  {
   "cell_type": "markdown",
   "id": "6fa01521",
   "metadata": {},
   "source": [
    "We can see that matched sequences greatly differ in size. Interestingly, every hit matched with similar parts of the original sequence, containing many P and S aminoacids.\n",
    "\n",
    "All three parts of the sequence that were matched look kind of suspicious (with an exception at the end of the first sequence). It seems that the beginning of the nucleotide sequence of this gene just looks like that. It is possible that it is an intron and thus does not actually contribute to protein creation."
   ]
  },
  {
   "cell_type": "markdown",
   "id": "594b3181",
   "metadata": {},
   "source": [
    "### 6. Dimensionality Reduction of Alignment Scores"
   ]
  },
  {
   "cell_type": "markdown",
   "id": "c1672375",
   "metadata": {},
   "source": [
    "Unfortunately the BLAST algorithm returned only 35 hits (with the longest aminoacid sequence length possible as an input, so I am not able to find more). This excercise is done with these 35 proteins."
   ]
  },
  {
   "cell_type": "code",
   "execution_count": 30,
   "id": "7d62feca",
   "metadata": {},
   "outputs": [],
   "source": [
    "all_protein_names = list(map(lambda x: x[3:-1], hit_ids))\n",
    "\n",
    "all_protein_sequences = []\n",
    "\n",
    "for name in all_protein_names:\n",
    "    handle = Entrez.esearch(db=\"protein\", term=f\"{name}[Version]\", retmax=1)\n",
    "    record = Entrez.read(handle)\n",
    "    handle.close()\n",
    "\n",
    "    gene_id = record[\"IdList\"][0]\n",
    "    handle = Entrez.efetch(db=\"protein\", id=gene_id, rettype=\"fasta\")\n",
    "\n",
    "    records = SeqIO.parse(handle, \"fasta\")\n",
    "    all_protein_sequences.append(str(next(records).seq))\n",
    "\n",
    "n = len(all_protein_sequences)\n",
    "\n",
    "alignment_matrix = [[0 for __ in range(n)] for _ in range(n)]\n",
    "blosum62 = substitution_matrices.load(\"BLOSUM62\")\n",
    "\n",
    "for i in range(n):\n",
    "    for j in range(i, n):\n",
    "        alignment_ij = pairwise2.align.localds(all_protein_sequences[i], all_protein_sequences[j], blosum62, -10, -0.5)\n",
    "        alignment_matrix[i][j] = alignment_ij[0].score\n",
    "        alignment_matrix[j][i] = alignment_ij[0].score\n"
   ]
  },
  {
   "cell_type": "markdown",
   "id": "42c9c001",
   "metadata": {},
   "source": [
    "I have decided to go with PCA, because it's the first step in finding patterns in multidimensional data. It also showed clusters, which is a good sign!"
   ]
  },
  {
   "cell_type": "code",
   "execution_count": 91,
   "id": "c9398165",
   "metadata": {},
   "outputs": [
    {
     "data": {
      "image/png": "[encoded data removed]",
      "text/plain": [
       "<Figure size 640x480 with 1 Axes>"
      ]
     },
     "metadata": {},
     "output_type": "display_data"
    }
   ],
   "source": [
    "scaler = preprocessing.StandardScaler()\n",
    "am_scaled = pd.DataFrame(scaler.fit_transform(alignment_matrix))\n",
    "\n",
    "pca = PCA(n_components=2)\n",
    "am_pca = pca.fit_transform(am_scaled)\n",
    "plt.scatter(am_pca[:, 0], am_pca[:, 1]);"
   ]
  },
  {
   "cell_type": "code",
   "execution_count": 89,
   "id": "3c6f38a9",
   "metadata": {},
   "outputs": [
    {
     "data": {
      "image/png": "[encoded data removed]",
      "text/plain": [
       "<Figure size 640x480 with 1 Axes>"
      ]
     },
     "metadata": {},
     "output_type": "display_data"
    }
   ],
   "source": [
    "silhouette_scores = []\n",
    "\n",
    "for i in range(2, 20):\n",
    "    kmeans = KMeans(n_clusters=i)\n",
    "    am_kmeans = kmeans.fit_predict(am_pca)\n",
    "    silhouette_scores.append(silhouette_score(am_pca, am_kmeans))\n",
    "\n",
    "plt.plot(silhouette_scores, marker=\"o\", markersize=4, linestyle=\"solid\")\n",
    "plt.xticks(range(0, 18), range(2, 20));"
   ]
  },
  {
   "cell_type": "markdown",
   "id": "6ff0beef",
   "metadata": {},
   "source": [
    "This plot suggests that 3-5 clusters is the optimal amount. Below is the plot with 5 clusters:"
   ]
  },
  {
   "cell_type": "code",
   "execution_count": 90,
   "id": "ffc39fd3",
   "metadata": {},
   "outputs": [
    {
     "data": {
      "image/png": "[encoded data removed]",
      "text/plain": [
       "<Figure size 640x480 with 1 Axes>"
      ]
     },
     "metadata": {},
     "output_type": "display_data"
    }
   ],
   "source": [
    "kmeans = KMeans(n_clusters=5)\n",
    "cluster_labels = kmeans.fit_predict(am_pca)\n",
    "plt.scatter(am_pca[:, 0], am_pca[:, 1], c=cluster_labels);"
   ]
  }
 ],
 "metadata": {
  "kernelspec": {
   "display_name": "bioinformatics-mini-2025",
   "language": "python",
   "name": "python3"
  },
  "language_info": {
   "codemirror_mode": {
    "name": "ipython",
    "version": 3
   },
   "file_extension": ".py",
   "mimetype": "text/x-python",
   "name": "python",
   "nbconvert_exporter": "python",
   "pygments_lexer": "ipython3",
   "version": "3.13.9"
  }
 },
 "nbformat": 4,
 "nbformat_minor": 5
}
